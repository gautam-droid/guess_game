{
 "cells": [
  {
   "cell_type": "code",
   "execution_count": 1,
   "metadata": {},
   "outputs": [
    {
     "name": "stdout",
     "output_type": "stream",
     "text": [
      "And the game begins\n"
     ]
    },
    {
     "ename": "IndexError",
     "evalue": "string index out of range",
     "output_type": "error",
     "traceback": [
      "\u001b[1;31m---------------------------------------------------------------------------\u001b[0m",
      "\u001b[1;31mIndexError\u001b[0m                                Traceback (most recent call last)",
      "Cell \u001b[1;32mIn[1], line 49\u001b[0m\n\u001b[0;32m     45\u001b[0m      \u001b[39mreturn\u001b[39;00m \u001b[39m'\u001b[39m\u001b[39m \u001b[39m\u001b[39m'\u001b[39m\u001b[39m.\u001b[39mjoin(listt)\n\u001b[0;32m     48\u001b[0m \u001b[39mif\u001b[39;00m \u001b[39m__name__\u001b[39m \u001b[39m==\u001b[39m \u001b[39m'\u001b[39m\u001b[39m__main__\u001b[39m\u001b[39m'\u001b[39m:\n\u001b[1;32m---> 49\u001b[0m     main()\n",
      "Cell \u001b[1;32mIn[1], line 14\u001b[0m, in \u001b[0;36mmain\u001b[1;34m()\u001b[0m\n\u001b[0;32m     12\u001b[0m num_input \u001b[39m=\u001b[39m \u001b[39minput\u001b[39m(\u001b[39m\"\u001b[39m\u001b[39mguess now #\u001b[39m\u001b[39m{}\u001b[39;00m\u001b[39m>\u001b[39m\u001b[39m\"\u001b[39m\u001b[39m.\u001b[39mformat(i\u001b[39m+\u001b[39m\u001b[39m1\u001b[39m))\n\u001b[0;32m     13\u001b[0m i\u001b[39m+\u001b[39m\u001b[39m=\u001b[39m\u001b[39m1\u001b[39m\n\u001b[1;32m---> 14\u001b[0m guess_secret_digit(fetched_secret_digit, num_input)\n\u001b[0;32m     15\u001b[0m \u001b[39mif\u001b[39;00m num_input\u001b[39m==\u001b[39mfetched_secret_digit:\n\u001b[0;32m     16\u001b[0m     \u001b[39mbreak\u001b[39;00m\n",
      "Cell \u001b[1;32mIn[1], line 37\u001b[0m, in \u001b[0;36mguess_secret_digit\u001b[1;34m(fetched_secret_digit, num_input)\u001b[0m\n\u001b[0;32m     35\u001b[0m listt\u001b[39m=\u001b[39m[]\n\u001b[0;32m     36\u001b[0m \u001b[39mfor\u001b[39;00m i \u001b[39min\u001b[39;00m \u001b[39mrange\u001b[39m(\u001b[39mlen\u001b[39m(num_input)):\n\u001b[1;32m---> 37\u001b[0m     \u001b[39mif\u001b[39;00m (num_input[i] \u001b[39m==\u001b[39m fetched_secret_digit[i]):\n\u001b[0;32m     38\u001b[0m      listt\u001b[39m.\u001b[39mappend(\u001b[39m\"\u001b[39m\u001b[39mfermi\u001b[39m\u001b[39m\"\u001b[39m)\n\u001b[0;32m     39\u001b[0m     \u001b[39melif\u001b[39;00m num_input[i] \u001b[39min\u001b[39;00m fetched_secret_digit:\n",
      "\u001b[1;31mIndexError\u001b[0m: string index out of range"
     ]
    }
   ],
   "source": [
    "import random\n",
    "Num_Digit = 3  # total length of digit to be guessed\n",
    "N_Guesses = 10  # total number of guesses a user can give\n",
    "# Num_Digit = int(input(\"Enter the lenth of digit you want to guess\"))  #total length of digit to be guessed\n",
    "# N_Guesses = int(input(\"Enter the number of guesses you want to make\")) #total number of guesses a user can give\n",
    "\n",
    "def main():\n",
    "    print(\"And the game begins\")\n",
    "    fetched_secret_digit = get_secret_digit()\n",
    "    i=0\n",
    "    while True:\n",
    "        num_input = input(\"guess now #{}>\".format(i+1))\n",
    "        i+=1\n",
    "        tip= guess_secret_digit(fetched_secret_digit, num_input)\n",
    "        print(tip)\n",
    "        if(i==N_Guesses):\n",
    "            print(\"oops!,game over\")\n",
    "            break\n",
    "        if num_input==fetched_secret_digit:\n",
    "            print(\"You won!\")\n",
    "            break\n",
    "\n",
    "\n",
    "# generating secret digit\n",
    "def get_secret_digit():\n",
    "    lst = [i*1 for i in range(10)]\n",
    "    random.shuffle(lst)\n",
    "    stored_list = lst\n",
    "    secret_num = ''\n",
    "    for i in range(Num_Digit):\n",
    "        secret_num += str(lst[i])\n",
    "    return secret_num\n",
    "\n",
    "\n",
    "# guessing the secret digit\n",
    "def guess_secret_digit(fetched_secret_digit,num_input):\n",
    "    if num_input == fetched_secret_digit:\n",
    "      return 'You got it!'\n",
    "    \n",
    "    listt=[]\n",
    "    for i in range(len(num_input)):\n",
    "        if (num_input[i] == fetched_secret_digit[i]):\n",
    "         listt.append(\"fermi\")\n",
    "        elif num_input[i] in fetched_secret_digit:\n",
    "         listt.append('pico')\n",
    "    if(len(listt)==0):\n",
    "        return(\"Bagels\")\n",
    "    else:\n",
    "     listt.sort()\n",
    "     return ' '.join(listt)\n",
    "\n",
    "\n",
    "if __name__ == '__main__':\n",
    "  main()\n"
   ]
  }
 ],
 "metadata": {
  "kernelspec": {
   "display_name": "Python 3",
   "language": "python",
   "name": "python3"
  },
  "language_info": {
   "codemirror_mode": {
    "name": "ipython",
    "version": 3
   },
   "file_extension": ".py",
   "mimetype": "text/x-python",
   "name": "python",
   "nbconvert_exporter": "python",
   "pygments_lexer": "ipython3",
   "version": "3.10.1"
  },
  "orig_nbformat": 4,
  "vscode": {
   "interpreter": {
    "hash": "b00a656b6524b0e433a0c2c6a57bbd9a4eecf243c2c6345e75042530fe353dbc"
   }
  }
 },
 "nbformat": 4,
 "nbformat_minor": 2
}
