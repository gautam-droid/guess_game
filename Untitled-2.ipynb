{
 "cells": [
  {
   "cell_type": "code",
   "execution_count": 41,
   "metadata": {},
   "outputs": [
    {
     "name": "stdout",
     "output_type": "stream",
     "text": [
      "hi\n"
     ]
    }
   ],
   "source": [
    "import random\n",
    "Num_Digit=3  #total length of digit to be guessed\n",
    "N_Guesses =10 #total number of guesses a user can give\n",
    "# Num_Digit = int(input(\"Enter the lenth of digit you want to guess\"))  #total length of digit to be guessed\n",
    "# N_Guesses = int(input(\"Enter the number of guesses you want to make\")) #total number of guesses a user can give\n",
    "\n",
    "    \n",
    "\n",
    "\n",
    "\n",
    "\n",
    "\n",
    "\n",
    "\n",
    "\n",
    "\n",
    "\n",
    "\n",
    "def get_secret_digit():\n",
    "  lst=[i*1 for i in range(10) ]\n",
    "  random.shuffle(lst)\n",
    "  print(lst)\n",
    "  secret_num=''\n",
    "  for i in range(Num_Digit):\n",
    "     secret_num+=str(lst[i])\n",
    "  return secret_num\n",
    "# get_secret_digit()\n",
    "\n",
    "\n",
    "\n",
    "\n"
   ]
  }
 ],
 "metadata": {
  "kernelspec": {
   "display_name": "Python 3",
   "language": "python",
   "name": "python3"
  },
  "language_info": {
   "codemirror_mode": {
    "name": "ipython",
    "version": 3
   },
   "file_extension": ".py",
   "mimetype": "text/x-python",
   "name": "python",
   "nbconvert_exporter": "python",
   "pygments_lexer": "ipython3",
   "version": "3.10.1"
  },
  "orig_nbformat": 4
 },
 "nbformat": 4,
 "nbformat_minor": 2
}
