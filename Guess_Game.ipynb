{
 "cells": [
  {
   "cell_type": "code",
   "execution_count": 13,
   "metadata": {},
   "outputs": [
    {
     "name": "stdout",
     "output_type": "stream",
     "text": [
      "And the game begins\n",
      "Bagels\n",
      "fermi pico pico\n",
      "Bagels\n",
      "Bagels\n",
      "Bagels\n",
      "Bagels\n",
      "Bagels\n",
      "Bagels\n",
      "Bagels\n",
      "Bagels\n",
      "oops!,game over\n",
      "Wanna play again?\n",
      "Okay! Thanks for your response,the game ended\n"
     ]
    }
   ],
   "source": [
    "import random\n",
    "Num_Digit = 3  # total length of digit to be guessed\n",
    "N_Guesses = 10  # total number of guesses a user can give\n",
    "# Num_Digit = int(input(\"Enter the lenth of digit you want to guess\"))  #total length of digit to be guessed\n",
    "# N_Guesses = int(input(\"Enter the number of guesses you want to make\")) #total number of guesses a user can give\n",
    "\n",
    "def main():\n",
    "    print(\"And the game begins\")\n",
    "    fetched_secret_digit = get_secret_digit()\n",
    "    i=0\n",
    "    while i<N_Guesses:\n",
    "        num_input = input(\"guess now #{}>\".format(i+1))\n",
    "        while len(num_input)!=Num_Digit or not num_input.isdecimal():                       \n",
    "          num_input = input(\"guess now #{}>\".format(i+1))\n",
    "          \n",
    "        i+=1\n",
    "        tip= guess_secret_digit(fetched_secret_digit, num_input)\n",
    "        print(tip)\n",
    "        if(i==N_Guesses):\n",
    "            print(\"oops!,game over\")\n",
    "            print(\"Wanna play again?\")\n",
    "            if input('Type yes/no').lower().startswith('n'):\n",
    "                print(\"Okay! Thanks for your response,the game ended\")\n",
    "                break\n",
    "            else:\n",
    "                \n",
    "                main()\n",
    "                \n",
    "        if num_input==fetched_secret_digit:\n",
    "            print(\"You won!\")\n",
    "            break\n",
    "\n",
    "\n",
    "\n",
    "# generating secret digit\n",
    "def get_secret_digit():\n",
    "    lst = [i*1 for i in range(10)]\n",
    "    random.shuffle(lst)\n",
    "    stored_list = lst\n",
    "    secret_num = ''\n",
    "    for i in range(Num_Digit):\n",
    "        secret_num += str(lst[i])\n",
    "    return secret_num\n",
    "\n",
    "\n",
    "# guessing the secret digit\n",
    "def guess_secret_digit(fetched_secret_digit,num_input):\n",
    "    if num_input == fetched_secret_digit:\n",
    "      return 'You got it!'\n",
    "    \n",
    "    listt=[]\n",
    "    for i in range(len(num_input)):\n",
    "        if (num_input[i] == fetched_secret_digit[i]):\n",
    "         listt.append(\"fermi\")\n",
    "        elif num_input[i] in fetched_secret_digit:\n",
    "         listt.append('pico')\n",
    "    if(len(listt)==0):\n",
    "        return(\"Bagels\")\n",
    "    else:\n",
    "     listt.sort()\n",
    "     return ' '.join(listt)\n",
    "\n",
    "\n",
    "if __name__ == '__main__':\n",
    "  main()\n"
   ]
  }
 ],
 "metadata": {
  "kernelspec": {
   "display_name": "Python 3",
   "language": "python",
   "name": "python3"
  },
  "language_info": {
   "codemirror_mode": {
    "name": "ipython",
    "version": 3
   },
   "file_extension": ".py",
   "mimetype": "text/x-python",
   "name": "python",
   "nbconvert_exporter": "python",
   "pygments_lexer": "ipython3",
   "version": "3.10.1"
  },
  "orig_nbformat": 4,
  "vscode": {
   "interpreter": {
    "hash": "b00a656b6524b0e433a0c2c6a57bbd9a4eecf243c2c6345e75042530fe353dbc"
   }
  }
 },
 "nbformat": 4,
 "nbformat_minor": 2
}
